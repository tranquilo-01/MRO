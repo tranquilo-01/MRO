{
 "cells": [
  {
   "cell_type": "markdown",
   "metadata": {},
   "source": [
    "### 1. Pobranie zbioru cifar i wyświetlenie kilku obrazów"
   ]
  },
  {
   "cell_type": "code",
   "execution_count": 15,
   "metadata": {},
   "outputs": [
    {
     "name": "stdout",
     "output_type": "stream",
     "text": [
      "Files already downloaded and verified\n"
     ]
    },
    {
     "data": {
      "image/png": "[encoded data removed]",
      "text/plain": [
       "<Figure size 640x480 with 1 Axes>"
      ]
     },
     "metadata": {},
     "output_type": "display_data"
    }
   ],
   "source": [
    "import torch\n",
    "import torchvision\n",
    "import torchvision.transforms as transforms\n",
    "import matplotlib.pyplot as plt\n",
    "import numpy as np\n",
    "\n",
    "classes = ('plane', 'car', 'bird', 'cat', 'deer', \n",
    "           'dog', 'frog', 'horse', 'ship', 'truck')\n",
    "\n",
    "transform = transforms.Compose([transforms.ToTensor()])\n",
    "\n",
    "trainset = torchvision.datasets.CIFAR10(root='./data', train=True, download=True, transform=transform)\n",
    "\n",
    "showloader = torch.utils.data.DataLoader(trainset, batch_size=4, shuffle=True, num_workers=2)\n",
    "\n",
    "def imshow(img, labels):\n",
    "    npimg = img.numpy()\n",
    "    plt.imshow(np.transpose(npimg, (1, 2, 0)))\n",
    "    \n",
    "    label_text = ' '.join(classes[labels[j]] for j in range(len(labels)))\n",
    "    plt.title(label_text)\n",
    "    plt.axis('off')\n",
    "    plt.show()\n",
    "\n",
    "dataiter = iter(showloader)\n",
    "images, labels = next(dataiter)\n",
    "\n",
    "imshow(torchvision.utils.make_grid(images), labels)"
   ]
  },
  {
   "cell_type": "markdown",
   "metadata": {},
   "source": [
    "### 3. Stworzenie sieci neuronowej podobnej do LeNet-5"
   ]
  },
  {
   "cell_type": "code",
   "execution_count": 22,
   "metadata": {},
   "outputs": [
    {
     "name": "stdout",
     "output_type": "stream",
     "text": [
      "LeNet5CIFAR10(\n",
      "  (conv1): Conv2d(3, 6, kernel_size=(5, 5), stride=(1, 1))\n",
      "  (conv2): Conv2d(6, 16, kernel_size=(5, 5), stride=(1, 1))\n",
      "  (fc1): Linear(in_features=400, out_features=120, bias=True)\n",
      "  (fc2): Linear(in_features=120, out_features=84, bias=True)\n",
      "  (fc3): Linear(in_features=84, out_features=10, bias=True)\n",
      ")\n",
      "62006\n"
     ]
    }
   ],
   "source": [
    "import torch\n",
    "import torch.nn as nn\n",
    "import torch.nn.functional as F\n",
    "\n",
    "class LeNet5CIFAR10(nn.Module):\n",
    "    def __init__(self):\n",
    "        super(LeNet5CIFAR10, self).__init__()\n",
    "        \n",
    "        self.conv1 = nn.Conv2d(in_channels=3, out_channels=6, kernel_size=5, stride=1, padding=0)\n",
    "        \n",
    "        self.conv2 = nn.Conv2d(in_channels=6, out_channels=16, kernel_size=5, stride=1, padding=0)\n",
    "        \n",
    "        self.fc1 = nn.Linear(16 * 5 * 5, 120)\n",
    "        self.fc2 = nn.Linear(120, 84)\n",
    "        \n",
    "        self.fc3 = nn.Linear(84, 10)\n",
    "\n",
    "    def forward(self, x):\n",
    "        # Layer 1: Convolution -> ReLU -> Avg Pooling\n",
    "        x = F.relu(self.conv1(x))          # Conv1\n",
    "        x = F.avg_pool2d(x, 2)             # 2x2 Avg Pooling\n",
    "        \n",
    "        # Layer 2: Convolution -> ReLU -> Avg Pooling\n",
    "        x = F.relu(self.conv2(x))          # Conv2\n",
    "        x = F.avg_pool2d(x, 2)             # 2x2 Avg Pooling\n",
    "        \n",
    "        # Flatten the output for fully connected layers\n",
    "        x = x.view(-1, 16 * 5 * 5)\n",
    "        \n",
    "        # Fully connected layers with ReLU activations\n",
    "        x = F.relu(self.fc1(x))\n",
    "        x = F.relu(self.fc2(x))\n",
    "        \n",
    "        # Output layer (before softmax)\n",
    "        x = self.fc3(x)\n",
    "        \n",
    "        # Apply softmax for class probabilities\n",
    "        return F.softmax(x, dim=1)\n",
    "\n",
    "device = torch.device(\"cuda\" if torch.cuda.is_available() else \"cpu\")\n",
    "net = LeNet5CIFAR10().to(device)\n",
    "\n",
    "print(net)\n",
    "\n",
    "params = 0\n",
    "for parameter in net.parameters(): \n",
    "    subsum=1\n",
    "    for el in parameter.size():\n",
    "        subsum*=el\n",
    "    params+=subsum\n",
    "    \n",
    "print(params)\n",
    "\n"
   ]
  },
  {
   "cell_type": "markdown",
   "metadata": {},
   "source": [
    "### 6-10. Zapętlenie w treningu"
   ]
  },
  {
   "cell_type": "code",
   "execution_count": 23,
   "metadata": {},
   "outputs": [
    {
     "name": "stdout",
     "output_type": "stream",
     "text": [
      "Files already downloaded and verified\n",
      "Files already downloaded and verified\n",
      "Epoch 1/10, Training Loss: 2.1599, Validation Loss: 2.1094, Elapsed time: 0:01:03.735386\n",
      "Epoch 2/10, Training Loss: 2.0876, Validation Loss: 2.0618, Elapsed time: 0:01:36.780064\n",
      "Epoch 3/10, Training Loss: 2.0553, Validation Loss: 2.0585, Elapsed time: 0:02:08.809854\n",
      "Epoch 4/10, Training Loss: 2.0425, Validation Loss: 2.0649, Elapsed time: 0:02:39.885934\n",
      "Epoch 5/10, Training Loss: 2.0284, Validation Loss: 2.0167, Elapsed time: 0:03:13.197674\n",
      "Epoch 6/10, Training Loss: 2.0238, Validation Loss: 2.0410, Elapsed time: 0:03:44.163056\n",
      "Epoch 7/10, Training Loss: 2.0125, Validation Loss: 2.0136, Elapsed time: 0:04:17.162842\n",
      "Epoch 8/10, Training Loss: 2.0056, Validation Loss: 2.0191, Elapsed time: 0:04:50.307064\n",
      "Epoch 9/10, Training Loss: 2.0051, Validation Loss: 2.0240, Elapsed time: 0:05:24.624843\n",
      "Epoch 10/10, Training Loss: 1.9940, Validation Loss: 1.9915, Elapsed time: 0:05:58.220890\n",
      "Test Accuracy: 45.56%\n"
     ]
    }
   ],
   "source": [
    "from torch.utils.data import random_split, DataLoader\n",
    "import torch.optim as optim\n",
    "from datetime import datetime, timedelta\n",
    "\n",
    "\n",
    "train_dataset = torchvision.datasets.CIFAR10(root='./data', train=True, download=True, transform=transform)\n",
    "test_dataset = torchvision.datasets.CIFAR10(root='./data', train=False, download=True, transform=transform)\n",
    "\n",
    "# Podział danych treningowych na zbiór treningowy i walidacyjny (90% na trening, 10% na walidację)\n",
    "train_size = int(0.9 * len(train_dataset))\n",
    "val_size = len(train_dataset) - train_size\n",
    "train_data, val_data = random_split(train_dataset, [train_size, val_size])\n",
    "\n",
    "# Stworzenie DataLoaderów\n",
    "train_loader = DataLoader(train_data, batch_size=64, shuffle=True, num_workers=2)\n",
    "val_loader = DataLoader(val_data, batch_size=64, shuffle=False, num_workers=2)\n",
    "test_loader = DataLoader(test_dataset, batch_size=64, shuffle=False, num_workers=2)\n",
    "\n",
    "criterion = nn.CrossEntropyLoss()\n",
    "optimizer = optim.Adam(net.parameters(), lr=0.002) # learning rate w miarę dobry dla Adama\n",
    "\n",
    "# Pętla treningowa\n",
    "num_epochs = 10\n",
    "start_time = datetime.now()\n",
    "for epoch in range(num_epochs):\n",
    "    net.train()\n",
    "    running_loss = 0.0\n",
    "    for inputs, labels in train_loader:\n",
    "        inputs, labels = inputs.to(device), labels.to(device)\n",
    "        \n",
    "        # Resetowanie gradientów\n",
    "        optimizer.zero_grad()\n",
    "        \n",
    "        # Przepuszczenie danych przez sieć, obliczenie funkcji kosztu i wstecznej propagacji\n",
    "        outputs = net(inputs)\n",
    "        loss = criterion(outputs, labels)\n",
    "        loss.backward()\n",
    "        optimizer.step()\n",
    "        \n",
    "        running_loss += loss.item()\n",
    "    avg_train_loss = running_loss / len(train_loader)\n",
    "\n",
    "    # Obliczenie validation loss\n",
    "    net.eval()\n",
    "    val_loss = 0.0\n",
    "    with torch.no_grad():\n",
    "        for inputs, labels in val_loader:\n",
    "            inputs, labels = inputs.to(device), labels.to(device)\n",
    "            outputs = net(inputs)\n",
    "            loss = criterion(outputs, labels)\n",
    "            val_loss += loss.item()\n",
    "    avg_val_loss = val_loss / len(val_loader)\n",
    "    \n",
    "    print(f\"Epoch {epoch+1}/{num_epochs}, Training Loss: {avg_train_loss:.4f}, Validation Loss: {avg_val_loss:.4f}, Elapsed time: {datetime.now() - start_time}\")\n",
    "\n",
    "# Testowanie modelu - obliczenie accuracy\n",
    "net.eval()\n",
    "correct = 0\n",
    "total = 0\n",
    "with torch.no_grad():\n",
    "    for inputs, labels in test_loader:\n",
    "        inputs, labels = inputs.to(device), labels.to(device)\n",
    "        outputs = net(inputs)\n",
    "        _, predicted = torch.max(outputs, 1)\n",
    "        total += labels.size(0)\n",
    "        correct += (predicted == labels).sum().item()\n",
    "\n",
    "accuracy = correct / total\n",
    "print(f\"Test Accuracy: {accuracy * 100:.2f}%\")"
   ]
  }
 ],
 "metadata": {
  "kernelspec": {
   "display_name": "Python 3",
   "language": "python",
   "name": "python3"
  },
  "language_info": {
   "codemirror_mode": {
    "name": "ipython",
    "version": 3
   },
   "file_extension": ".py",
   "mimetype": "text/x-python",
   "name": "python",
   "nbconvert_exporter": "python",
   "pygments_lexer": "ipython3",
   "version": "3.11.10"
  }
 },
 "nbformat": 4,
 "nbformat_minor": 2
}
